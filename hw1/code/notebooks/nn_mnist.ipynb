{
 "cells": [
  {
   "cell_type": "markdown",
   "metadata": {},
   "source": [
    "# Training a Feedforward Neural Network via Backpropagation\n",
    "### Application to the MNIST dataset"
   ]
  },
  {
   "cell_type": "markdown",
   "metadata": {},
   "source": [
    "YJ Choe"
   ]
  },
  {
   "cell_type": "markdown",
   "metadata": {},
   "source": [
    "#### Setup"
   ]
  },
  {
   "cell_type": "code",
   "execution_count": 1,
   "metadata": {
    "collapsed": false
   },
   "outputs": [
    {
     "name": "stdout",
     "output_type": "stream",
     "text": [
      "/Users/YJ/Code/deep_learning/hw1/code/backprop\n"
     ]
    }
   ],
   "source": [
    "%cd ../backprop/"
   ]
  },
  {
   "cell_type": "code",
   "execution_count": 2,
   "metadata": {
    "collapsed": true
   },
   "outputs": [],
   "source": [
    "import numpy as np\n",
    "import matplotlib.pyplot as plt\n",
    "\n",
    "from nn import NN\n",
    "from utils import load_data"
   ]
  },
  {
   "cell_type": "markdown",
   "metadata": {},
   "source": [
    "#### Load Data"
   ]
  },
  {
   "cell_type": "code",
   "execution_count": 3,
   "metadata": {
    "collapsed": false
   },
   "outputs": [],
   "source": [
    "X_train, X_valid, X_test, y_train, y_valid, y_test = \\\n",
    "    load_data('../../data/digitstrain.txt',\n",
    "              '../../data/digitsvalid.txt',\n",
    "              '../../data/digitstest.txt')"
   ]
  },
  {
   "cell_type": "code",
   "execution_count": 4,
   "metadata": {
    "collapsed": false
   },
   "outputs": [
    {
     "data": {
      "text/plain": [
       "(3000, 784)"
      ]
     },
     "execution_count": 4,
     "metadata": {},
     "output_type": "execute_result"
    }
   ],
   "source": [
    "X_train.shape"
   ]
  },
  {
   "cell_type": "code",
   "execution_count": 5,
   "metadata": {
    "collapsed": false
   },
   "outputs": [
    {
     "data": {
      "text/plain": [
       "(3000, 10)"
      ]
     },
     "execution_count": 5,
     "metadata": {},
     "output_type": "execute_result"
    }
   ],
   "source": [
    "y_train.shape"
   ]
  },
  {
   "cell_type": "markdown",
   "metadata": {},
   "source": [
    "#### Model Initialization"
   ]
  },
  {
   "cell_type": "code",
   "execution_count": 25,
   "metadata": {
    "collapsed": false
   },
   "outputs": [],
   "source": [
    "nn = NN(architecture=[784, 100, 10], \n",
    "        activation='sigmoid', learning_rate=1.0, weight_decay=0.01, \n",
    "        dropout=0.1, early_stopping=True, seed=35)"
   ]
  },
  {
   "cell_type": "code",
   "execution_count": 26,
   "metadata": {
    "collapsed": false
   },
   "outputs": [
    {
     "data": {
      "text/plain": [
       "[<layer.HiddenLayer at 0x10771e2d0>, <layer.OutputLayer at 0x10771e310>]"
      ]
     },
     "execution_count": 26,
     "metadata": {},
     "output_type": "execute_result"
    }
   ],
   "source": [
    "nn.layers"
   ]
  },
  {
   "cell_type": "code",
   "execution_count": 27,
   "metadata": {
    "collapsed": false
   },
   "outputs": [
    {
     "data": {
      "text/plain": [
       "'layer0'"
      ]
     },
     "execution_count": 27,
     "metadata": {},
     "output_type": "execute_result"
    }
   ],
   "source": [
    "nn.layers[0].__name__"
   ]
  },
  {
   "cell_type": "markdown",
   "metadata": {},
   "source": [
    "#### Training"
   ]
  },
  {
   "cell_type": "code",
   "execution_count": 28,
   "metadata": {
    "collapsed": false
   },
   "outputs": [
    {
     "name": "stdout",
     "output_type": "stream",
     "text": [
      "Training Complete! (3000 examples, epoch 1)\n",
      "Training error: 0.383000\n",
      "Validation error: 0.40100\n",
      "Training Complete! (3000 examples, epoch 2)\n",
      "Training error: 0.351000\n",
      "Validation error: 0.36100\n",
      "Training Complete! (3000 examples, epoch 3)\n",
      "Training error: 0.322667\n",
      "Validation error: 0.35000\n",
      "Training Complete! (3000 examples, epoch 4)\n",
      "Training error: 0.257000\n",
      "Validation error: 0.26000\n",
      "Training Complete! (3000 examples, epoch 5)\n",
      "Training error: 0.258333\n",
      "Validation error: 0.27500\n",
      "Training Complete! (3000 examples, epoch 6)\n",
      "Training error: 0.191333\n",
      "Validation error: 0.19200\n",
      "Training Complete! (3000 examples, epoch 7)\n",
      "Training error: 0.200000\n",
      "Validation error: 0.21400\n",
      "Training Complete! (3000 examples, epoch 8)\n",
      "Training error: 0.228667\n",
      "Validation error: 0.24000\n",
      "Training Complete! (3000 examples, epoch 9)\n",
      "Training error: 0.251667\n",
      "Validation error: 0.26000\n",
      "Training Complete! (3000 examples, epoch 10)\n",
      "Training error: 0.232000\n",
      "Validation error: 0.24700\n",
      "Training Complete! (3000 examples, epoch 11)\n",
      "Training error: 0.195000\n",
      "Validation error: 0.20300\n",
      "Training Complete! (3000 examples, epoch 12)\n",
      "Training error: 0.245000\n",
      "Validation error: 0.24100\n",
      "Training Complete! (3000 examples, epoch 13)\n",
      "Training error: 0.310000\n",
      "Validation error: 0.33200\n",
      "Training Complete! (3000 examples, epoch 14)\n",
      "Training error: 0.380333\n",
      "Validation error: 0.37300\n",
      "Training Complete! (3000 examples, epoch 15)\n",
      "Training error: 0.202000\n",
      "Validation error: 0.20700\n",
      "Training Complete! (3000 examples, epoch 16)\n",
      "Training error: 0.147667\n",
      "Validation error: 0.15800\n",
      "Training Complete! (3000 examples, epoch 17)\n",
      "Training error: 0.169667\n",
      "Validation error: 0.18600\n",
      "Training Complete! (3000 examples, epoch 18)\n",
      "Training error: 0.161667\n",
      "Validation error: 0.15800\n",
      "Training Complete! (3000 examples, epoch 19)\n",
      "Training error: 0.177333\n",
      "Validation error: 0.20300\n",
      "Training Complete! (3000 examples, epoch 20)\n",
      "Training error: 0.193000\n",
      "Validation error: 0.20900\n",
      "Training Complete! (3000 examples, epoch 21)\n",
      "Training error: 0.195000\n",
      "Validation error: 0.20900\n",
      "Training Complete! (3000 examples, epoch 22)\n",
      "Training error: 0.223000\n",
      "Validation error: 0.25700\n",
      "Training Complete! (3000 examples, epoch 23)\n",
      "Training error: 0.222333\n",
      "Validation error: 0.22400\n",
      "Training Complete! (3000 examples, epoch 24)\n",
      "Training error: 0.281333\n",
      "Validation error: 0.29700\n",
      "Training Complete! (3000 examples, epoch 25)\n",
      "Training error: 0.243333\n",
      "Validation error: 0.25900\n",
      "Training Complete! (3000 examples, epoch 26)\n",
      "Training error: 0.142333\n",
      "Validation error: 0.15500\n",
      "Training Complete! (3000 examples, epoch 27)\n",
      "Training error: 0.162333\n",
      "Validation error: 0.17600\n",
      "Training Complete! (3000 examples, epoch 28)\n",
      "Training error: 0.204000\n",
      "Validation error: 0.21500\n",
      "Training Complete! (3000 examples, epoch 29)\n",
      "Training error: 0.239667\n",
      "Validation error: 0.24700\n",
      "Training Complete! (3000 examples, epoch 30)\n",
      "Training error: 0.270333\n",
      "Validation error: 0.27400\n",
      "Training Complete! (3000 examples, epoch 31)\n",
      "Training error: 0.159000\n",
      "Validation error: 0.17800\n",
      "Training Complete! (3000 examples, epoch 32)\n",
      "Training error: 0.208667\n",
      "Validation error: 0.20400\n",
      "Training Complete! (3000 examples, epoch 33)\n",
      "Training error: 0.190000\n",
      "Validation error: 0.20900\n",
      "Training Complete! (3000 examples, epoch 34)\n",
      "Training error: 0.204000\n",
      "Validation error: 0.20700\n",
      "Training Complete! (3000 examples, epoch 35)\n",
      "Training error: 0.137000\n",
      "Validation error: 0.15000\n",
      "Training Complete! (3000 examples, epoch 36)\n",
      "Training error: 0.237333\n",
      "Validation error: 0.24600\n",
      "Training Complete! (3000 examples, epoch 37)\n",
      "Training error: 0.160333\n",
      "Validation error: 0.17200\n",
      "Training Complete! (3000 examples, epoch 38)\n",
      "Training error: 0.180333\n",
      "Validation error: 0.19900\n",
      "Training Complete! (3000 examples, epoch 39)\n",
      "Training error: 0.237000\n",
      "Validation error: 0.25100\n",
      "Training Complete! (3000 examples, epoch 40)\n",
      "Training error: 0.212000\n",
      "Validation error: 0.23300\n",
      "Training Complete! (3000 examples, epoch 41)\n",
      "Training error: 0.259333\n",
      "Validation error: 0.27000\n",
      "Training Complete! (3000 examples, epoch 42)\n",
      "Training error: 0.150667\n",
      "Validation error: 0.16600\n",
      "Training Complete! (3000 examples, epoch 43)\n",
      "Training error: 0.223333\n",
      "Validation error: 0.23700\n",
      "Training Complete! (3000 examples, epoch 44)\n",
      "Training error: 0.204333\n",
      "Validation error: 0.22000\n",
      "Training Complete! (3000 examples, epoch 45)\n",
      "Training error: 0.217000\n",
      "Validation error: 0.21500\n",
      "Training Complete! (3000 examples, epoch 46)\n",
      "Training error: 0.274000\n",
      "Validation error: 0.28600\n",
      "Training Complete! (3000 examples, epoch 47)\n",
      "Training error: 0.183667\n",
      "Validation error: 0.20200\n",
      "Training Complete! (3000 examples, epoch 48)\n",
      "Training error: 0.266000\n",
      "Validation error: 0.28000\n",
      "Training Complete! (3000 examples, epoch 49)\n",
      "Training error: 0.220667\n",
      "Validation error: 0.24100\n",
      "Training Complete! (3000 examples, epoch 50)\n",
      "Training error: 0.253667\n",
      "Validation error: 0.26800\n",
      "Training Complete! (3000 examples, epoch 51)\n",
      "Training error: 0.269000\n",
      "Validation error: 0.29500\n",
      "Training Complete! (3000 examples, epoch 52)\n",
      "Training error: 0.212667\n",
      "Validation error: 0.21500\n",
      "Training Complete! (3000 examples, epoch 53)\n",
      "Training error: 0.212667\n",
      "Validation error: 0.22000\n",
      "Training Complete! (3000 examples, epoch 54)\n",
      "Training error: 0.263333\n",
      "Validation error: 0.27200\n",
      "Training Complete! (3000 examples, epoch 55)\n",
      "Training error: 0.239333\n",
      "Validation error: 0.23600\n",
      "Training Complete! (3000 examples, epoch 56)\n",
      "Training error: 0.253000\n",
      "Validation error: 0.26700\n",
      "Training Complete! (3000 examples, epoch 57)\n",
      "Training error: 0.239333\n",
      "Validation error: 0.25700\n",
      "Training Complete! (3000 examples, epoch 58)\n",
      "Training error: 0.185333\n",
      "Validation error: 0.19700\n",
      "Training Complete! (3000 examples, epoch 59)\n",
      "Training error: 0.219000\n",
      "Validation error: 0.23900\n",
      "Training Complete! (3000 examples, epoch 60)\n",
      "Training error: 0.231333\n",
      "Validation error: 0.24300\n",
      "Training Complete! (3000 examples, epoch 61)\n",
      "Training error: 0.213333\n",
      "Validation error: 0.23000\n",
      "Training Complete! (3000 examples, epoch 62)\n",
      "Training error: 0.142000\n",
      "Validation error: 0.16200\n",
      "Training Complete! (3000 examples, epoch 63)\n",
      "Training error: 0.260333\n",
      "Validation error: 0.27200\n",
      "Training Complete! (3000 examples, epoch 64)\n",
      "Training error: 0.143333\n",
      "Validation error: 0.14900\n",
      "Training Complete! (3000 examples, epoch 65)\n",
      "Training error: 0.155667\n",
      "Validation error: 0.17800\n",
      "Training Complete! (3000 examples, epoch 66)\n",
      "Training error: 0.222000\n",
      "Validation error: 0.23700\n",
      "Training Complete! (3000 examples, epoch 67)\n",
      "Training error: 0.163000\n",
      "Validation error: 0.17200\n",
      "Training Complete! (3000 examples, epoch 68)\n",
      "Training error: 0.236667\n",
      "Validation error: 0.24700\n",
      "Training Complete! (3000 examples, epoch 69)\n",
      "Training error: 0.229000\n",
      "Validation error: 0.25800\n",
      "Training Complete! (3000 examples, epoch 70)\n",
      "Training error: 0.255333\n",
      "Validation error: 0.26500\n",
      "Training Complete! (3000 examples, epoch 71)\n",
      "Training error: 0.161667\n",
      "Validation error: 0.17900\n",
      "Training Complete! (3000 examples, epoch 72)\n",
      "Training error: 0.212000\n",
      "Validation error: 0.22400\n",
      "Training Complete! (3000 examples, epoch 73)\n",
      "Training error: 0.215667\n",
      "Validation error: 0.23900\n",
      "Training Complete! (3000 examples, epoch 74)\n",
      "Training error: 0.230667\n",
      "Validation error: 0.25300\n",
      "Training Complete! (3000 examples, epoch 75)\n",
      "Training error: 0.181667\n",
      "Validation error: 0.18700\n",
      "Training Complete! (3000 examples, epoch 76)\n",
      "Training error: 0.262667\n",
      "Validation error: 0.28600\n",
      "Training Complete! (3000 examples, epoch 77)\n",
      "Training error: 0.209667\n",
      "Validation error: 0.22500\n",
      "Training Complete! (3000 examples, epoch 78)\n",
      "Training error: 0.223333\n",
      "Validation error: 0.23900\n",
      "Training Complete! (3000 examples, epoch 79)\n",
      "Training error: 0.152333\n",
      "Validation error: 0.16000\n",
      "Training Complete! (3000 examples, epoch 80)\n",
      "Training error: 0.214333\n",
      "Validation error: 0.21900\n",
      "Training Complete! (3000 examples, epoch 81)\n",
      "Training error: 0.249667\n",
      "Validation error: 0.26200\n",
      "Training Complete! (3000 examples, epoch 82)\n",
      "Training error: 0.161333\n",
      "Validation error: 0.18400\n",
      "Training Complete! (3000 examples, epoch 83)\n",
      "Training error: 0.205000\n",
      "Validation error: 0.22600\n",
      "Training Complete! (3000 examples, epoch 84)\n",
      "Training error: 0.188333\n",
      "Validation error: 0.18800\n",
      "Training Complete! (3000 examples, epoch 85)\n",
      "Training error: 0.183667\n",
      "Validation error: 0.20600\n",
      "Training Complete! (3000 examples, epoch 86)\n",
      "Training error: 0.223333\n",
      "Validation error: 0.24800\n",
      "Training Complete! (3000 examples, epoch 87)\n",
      "Training error: 0.214667\n",
      "Validation error: 0.23000\n",
      "Training Complete! (3000 examples, epoch 88)\n",
      "Training error: 0.298000\n",
      "Validation error: 0.29800\n",
      "Training Complete! (3000 examples, epoch 89)\n",
      "Training error: 0.161333\n",
      "Validation error: 0.18300\n",
      "Training Complete! (3000 examples, epoch 90)\n",
      "Training error: 0.192333\n",
      "Validation error: 0.20000\n",
      "Training Complete! (3000 examples, epoch 91)\n",
      "Training error: 0.171333\n",
      "Validation error: 0.18700\n",
      "Training Complete! (3000 examples, epoch 92)\n",
      "Training error: 0.135667\n",
      "Validation error: 0.15600\n",
      "Training Complete! (3000 examples, epoch 93)\n",
      "Training error: 0.204333\n",
      "Validation error: 0.22100\n",
      "Training Complete! (3000 examples, epoch 94)\n",
      "Training error: 0.274000\n",
      "Validation error: 0.28700\n",
      "Training Complete! (3000 examples, epoch 95)\n",
      "Training error: 0.229333\n",
      "Validation error: 0.24100\n",
      "Training Complete! (3000 examples, epoch 96)\n",
      "Training error: 0.169000\n",
      "Validation error: 0.18000\n",
      "Training Complete! (3000 examples, epoch 97)\n",
      "Training error: 0.247333\n",
      "Validation error: 0.26200\n",
      "Training Complete! (3000 examples, epoch 98)\n",
      "Training error: 0.202000\n",
      "Validation error: 0.21500\n",
      "Training Complete! (3000 examples, epoch 99)\n",
      "Training error: 0.310000\n",
      "Validation error: 0.32500\n",
      "Training Complete! (3000 examples, epoch 100)\n",
      "Training error: 0.146333\n",
      "Validation error: 0.16500\n"
     ]
    }
   ],
   "source": [
    "for epoch in range(100):\n",
    "    nn.train(X_train, y_train, X_valid, y_valid, batch_size=100, batch_seed=23*epoch)"
   ]
  },
  {
   "cell_type": "markdown",
   "metadata": {},
   "source": [
    "### Plots"
   ]
  },
  {
   "cell_type": "code",
   "execution_count": 39,
   "metadata": {
    "collapsed": false
   },
   "outputs": [
    {
     "data": {
      "image/png": "[encoded data removed]",
      "text/plain": [
       "<matplotlib.figure.Figure at 0x1097a5290>"
      ]
     },
     "metadata": {},
     "output_type": "display_data"
    }
   ],
   "source": [
    "plt.plot(range(100), [v for _, v in sorted(nn.training_error.items())], label='Training')\n",
    "plt.plot(range(100), [v for _, v in sorted(nn.validation_error.items())], label='Validation')\n",
    "plt.title('Training and Validation Errors (1 Hidden Layer)')\n",
    "plt.legend()\n",
    "plt.show()"
   ]
  },
  {
   "cell_type": "code",
   "execution_count": null,
   "metadata": {
    "collapsed": true
   },
   "outputs": [],
   "source": []
  }
 ],
 "metadata": {
  "kernelspec": {
   "display_name": "Python 2",
   "language": "python",
   "name": "python2"
  },
  "language_info": {
   "codemirror_mode": {
    "name": "ipython",
    "version": 2
   },
   "file_extension": ".py",
   "mimetype": "text/x-python",
   "name": "python",
   "nbconvert_exporter": "python",
   "pygments_lexer": "ipython2",
   "version": "2.7.11"
  }
 },
 "nbformat": 4,
 "nbformat_minor": 1
}
